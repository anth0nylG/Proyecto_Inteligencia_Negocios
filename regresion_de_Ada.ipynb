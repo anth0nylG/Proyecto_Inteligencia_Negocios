{
 "cells": [
  {
   "cell_type": "markdown",
   "id": "34fa3a39-7c1b-4c2f-b26b-a214ceaf4dba",
   "metadata": {},
   "source": [
    "### Modelo de Regresión de Ada Boost Classifier"
   ]
  },
  {
   "cell_type": "markdown",
   "id": "1bcef376-b0d9-46ad-8e89-17d72585fa78",
   "metadata": {},
   "source": [
    "##### Paso 1: importar los paquetes necesarios\n",
    "##### Primero, importaremos los paquetes necesarios para realizar la regresión de Ada en Python:"
   ]
  },
  {
   "cell_type": "code",
   "execution_count": 1,
   "id": "2603167e-2d6e-427e-b267-779365967e94",
   "metadata": {},
   "outputs": [],
   "source": [
    "import pandas as pd\n",
    "import numpy as np\n",
    "from sklearn.ensemble import AdaBoostClassifier\n",
    "from sklearn.model_selection import train_test_split\n",
    "from sklearn import metrics\n",
    "from sklearn.metrics import r2_score, mean_squared_error\n",
    "from scipy import stats\n",
    "from scipy.stats import pearsonr\n",
    "import warnings\n",
    "warnings.filterwarnings('ignore')"
   ]
  },
  {
   "cell_type": "code",
   "execution_count": 2,
   "id": "3f635752-5337-46eb-bc45-7092678efcc5",
   "metadata": {},
   "outputs": [
    {
     "data": {
      "text/html": [
       "<div>\n",
       "<style scoped>\n",
       "    .dataframe tbody tr th:only-of-type {\n",
       "        vertical-align: middle;\n",
       "    }\n",
       "\n",
       "    .dataframe tbody tr th {\n",
       "        vertical-align: top;\n",
       "    }\n",
       "\n",
       "    .dataframe thead th {\n",
       "        text-align: right;\n",
       "    }\n",
       "</style>\n",
       "<table border=\"1\" class=\"dataframe\">\n",
       "  <thead>\n",
       "    <tr style=\"text-align: right;\">\n",
       "      <th></th>\n",
       "      <th>short_name</th>\n",
       "      <th>overall</th>\n",
       "      <th>pace</th>\n",
       "      <th>shooting</th>\n",
       "      <th>passing</th>\n",
       "      <th>dribbling</th>\n",
       "      <th>defending</th>\n",
       "      <th>physic</th>\n",
       "    </tr>\n",
       "  </thead>\n",
       "  <tbody>\n",
       "    <tr>\n",
       "      <th>0</th>\n",
       "      <td>L. Messi</td>\n",
       "      <td>93</td>\n",
       "      <td>93.0</td>\n",
       "      <td>89.0</td>\n",
       "      <td>86.0</td>\n",
       "      <td>96.0</td>\n",
       "      <td>27.0</td>\n",
       "      <td>63.0</td>\n",
       "    </tr>\n",
       "    <tr>\n",
       "      <th>1</th>\n",
       "      <td>Cristiano Ronaldo</td>\n",
       "      <td>92</td>\n",
       "      <td>93.0</td>\n",
       "      <td>93.0</td>\n",
       "      <td>81.0</td>\n",
       "      <td>91.0</td>\n",
       "      <td>32.0</td>\n",
       "      <td>79.0</td>\n",
       "    </tr>\n",
       "    <tr>\n",
       "      <th>2</th>\n",
       "      <td>A. Robben</td>\n",
       "      <td>90</td>\n",
       "      <td>93.0</td>\n",
       "      <td>86.0</td>\n",
       "      <td>83.0</td>\n",
       "      <td>92.0</td>\n",
       "      <td>32.0</td>\n",
       "      <td>64.0</td>\n",
       "    </tr>\n",
       "    <tr>\n",
       "      <th>3</th>\n",
       "      <td>Z. Ibrahimović</td>\n",
       "      <td>90</td>\n",
       "      <td>76.0</td>\n",
       "      <td>91.0</td>\n",
       "      <td>81.0</td>\n",
       "      <td>86.0</td>\n",
       "      <td>34.0</td>\n",
       "      <td>86.0</td>\n",
       "    </tr>\n",
       "    <tr>\n",
       "      <th>4</th>\n",
       "      <td>M. Neuer</td>\n",
       "      <td>90</td>\n",
       "      <td>0.0</td>\n",
       "      <td>0.0</td>\n",
       "      <td>0.0</td>\n",
       "      <td>0.0</td>\n",
       "      <td>0.0</td>\n",
       "      <td>0.0</td>\n",
       "    </tr>\n",
       "  </tbody>\n",
       "</table>\n",
       "</div>"
      ],
      "text/plain": [
       "          short_name  overall  pace  shooting  passing  dribbling  defending  \\\n",
       "0           L. Messi       93  93.0      89.0     86.0       96.0       27.0   \n",
       "1  Cristiano Ronaldo       92  93.0      93.0     81.0       91.0       32.0   \n",
       "2          A. Robben       90  93.0      86.0     83.0       92.0       32.0   \n",
       "3     Z. Ibrahimović       90  76.0      91.0     81.0       86.0       34.0   \n",
       "4           M. Neuer       90   0.0       0.0      0.0        0.0        0.0   \n",
       "\n",
       "   physic  \n",
       "0    63.0  \n",
       "1    79.0  \n",
       "2    64.0  \n",
       "3    86.0  \n",
       "4     0.0  "
      ]
     },
     "execution_count": 2,
     "metadata": {},
     "output_type": "execute_result"
    }
   ],
   "source": [
    "# Leer en los datos \n",
    "data = pd.read_csv('players_15.csv')\n",
    "\n",
    "# Seleccionar el subconjunto de datos\n",
    "dataset = data[[\"short_name\", \"overall\", \"pace\", \"shooting\", \"passing\", \"dribbling\", \"defending\", \"physic\"]]\n",
    "\n",
    "# Reemplazar los valores nan por 0\n",
    "dataset = dataset.replace(np.nan, 0)\n",
    "dataset.head()"
   ]
  },
  {
   "cell_type": "code",
   "execution_count": 3,
   "id": "5ddfdd68-e9af-4ced-97d9-4e02b4f642bf",
   "metadata": {},
   "outputs": [
    {
     "data": {
      "text/html": [
       "<div>\n",
       "<style scoped>\n",
       "    .dataframe tbody tr th:only-of-type {\n",
       "        vertical-align: middle;\n",
       "    }\n",
       "\n",
       "    .dataframe tbody tr th {\n",
       "        vertical-align: top;\n",
       "    }\n",
       "\n",
       "    .dataframe thead th {\n",
       "        text-align: right;\n",
       "    }\n",
       "</style>\n",
       "<table border=\"1\" class=\"dataframe\">\n",
       "  <thead>\n",
       "    <tr style=\"text-align: right;\">\n",
       "      <th></th>\n",
       "      <th>overall</th>\n",
       "      <th>pace</th>\n",
       "      <th>shooting</th>\n",
       "      <th>passing</th>\n",
       "      <th>dribbling</th>\n",
       "      <th>defending</th>\n",
       "      <th>physic</th>\n",
       "    </tr>\n",
       "  </thead>\n",
       "  <tbody>\n",
       "    <tr>\n",
       "      <th>overall</th>\n",
       "      <td>1.000000</td>\n",
       "      <td>0.146646</td>\n",
       "      <td>0.335387</td>\n",
       "      <td>0.360834</td>\n",
       "      <td>0.307590</td>\n",
       "      <td>0.221482</td>\n",
       "      <td>0.240850</td>\n",
       "    </tr>\n",
       "    <tr>\n",
       "      <th>pace</th>\n",
       "      <td>0.146646</td>\n",
       "      <td>1.000000</td>\n",
       "      <td>0.803523</td>\n",
       "      <td>0.844271</td>\n",
       "      <td>0.909900</td>\n",
       "      <td>0.569941</td>\n",
       "      <td>0.794396</td>\n",
       "    </tr>\n",
       "    <tr>\n",
       "      <th>shooting</th>\n",
       "      <td>0.335387</td>\n",
       "      <td>0.803523</td>\n",
       "      <td>1.000000</td>\n",
       "      <td>0.870799</td>\n",
       "      <td>0.914318</td>\n",
       "      <td>0.378075</td>\n",
       "      <td>0.713964</td>\n",
       "    </tr>\n",
       "    <tr>\n",
       "      <th>passing</th>\n",
       "      <td>0.360834</td>\n",
       "      <td>0.844271</td>\n",
       "      <td>0.870799</td>\n",
       "      <td>1.000000</td>\n",
       "      <td>0.951239</td>\n",
       "      <td>0.658769</td>\n",
       "      <td>0.816445</td>\n",
       "    </tr>\n",
       "    <tr>\n",
       "      <th>dribbling</th>\n",
       "      <td>0.307590</td>\n",
       "      <td>0.909900</td>\n",
       "      <td>0.914318</td>\n",
       "      <td>0.951239</td>\n",
       "      <td>1.000000</td>\n",
       "      <td>0.555199</td>\n",
       "      <td>0.789923</td>\n",
       "    </tr>\n",
       "    <tr>\n",
       "      <th>defending</th>\n",
       "      <td>0.221482</td>\n",
       "      <td>0.569941</td>\n",
       "      <td>0.378075</td>\n",
       "      <td>0.658769</td>\n",
       "      <td>0.555199</td>\n",
       "      <td>1.000000</td>\n",
       "      <td>0.820978</td>\n",
       "    </tr>\n",
       "    <tr>\n",
       "      <th>physic</th>\n",
       "      <td>0.240850</td>\n",
       "      <td>0.794396</td>\n",
       "      <td>0.713964</td>\n",
       "      <td>0.816445</td>\n",
       "      <td>0.789923</td>\n",
       "      <td>0.820978</td>\n",
       "      <td>1.000000</td>\n",
       "    </tr>\n",
       "  </tbody>\n",
       "</table>\n",
       "</div>"
      ],
      "text/plain": [
       "            overall      pace  shooting   passing  dribbling  defending  \\\n",
       "overall    1.000000  0.146646  0.335387  0.360834   0.307590   0.221482   \n",
       "pace       0.146646  1.000000  0.803523  0.844271   0.909900   0.569941   \n",
       "shooting   0.335387  0.803523  1.000000  0.870799   0.914318   0.378075   \n",
       "passing    0.360834  0.844271  0.870799  1.000000   0.951239   0.658769   \n",
       "dribbling  0.307590  0.909900  0.914318  0.951239   1.000000   0.555199   \n",
       "defending  0.221482  0.569941  0.378075  0.658769   0.555199   1.000000   \n",
       "physic     0.240850  0.794396  0.713964  0.816445   0.789923   0.820978   \n",
       "\n",
       "             physic  \n",
       "overall    0.240850  \n",
       "pace       0.794396  \n",
       "shooting   0.713964  \n",
       "passing    0.816445  \n",
       "dribbling  0.789923  \n",
       "defending  0.820978  \n",
       "physic     1.000000  "
      ]
     },
     "execution_count": 3,
     "metadata": {},
     "output_type": "execute_result"
    }
   ],
   "source": [
    "# Visualizamos la correlacion de los datos\n",
    "dataset.corr()"
   ]
  },
  {
   "cell_type": "code",
   "execution_count": 4,
   "id": "a95c488c-57ee-47e1-a986-0419747f9906",
   "metadata": {},
   "outputs": [],
   "source": [
    "# definir variables de predicción y respuesta\n",
    "x = dataset[[\"pace\", \"shooting\", \"passing\", \"dribbling\", \"defending\", \"physic\"]]\n",
    "y = dataset[\"overall\"]"
   ]
  },
  {
   "cell_type": "code",
   "execution_count": 5,
   "id": "caad1e00-076f-43e4-af60-ab48558a35ab",
   "metadata": {},
   "outputs": [],
   "source": [
    "# entrenar el modelo\n",
    "x_train, x_test, y_train, y_test = train_test_split(x, y, test_size=0.3,random_state=42) # 70% entrenamiento y 30% prueba"
   ]
  },
  {
   "cell_type": "code",
   "execution_count": 6,
   "id": "5d9529bc-9ce7-49ab-81fc-3a365a795ed6",
   "metadata": {},
   "outputs": [],
   "source": [
    "# Crear un objeto clasificador del modelo\n",
    "Ada = AdaBoostClassifier(n_estimators=100,learning_rate=1)\n",
    "# n_estimators = Numero de valores a entrenar \n",
    "# learning_rate = Contribuye a los datos que se seleccionaran, por defecto se selecciona el valor 1"
   ]
  },
  {
   "cell_type": "code",
   "execution_count": 7,
   "id": "e8c656ba-0a4b-4b6c-8d74-7113b5154357",
   "metadata": {},
   "outputs": [],
   "source": [
    "# Entrenar el clasificador Adaboost\n",
    "model = Ada.fit(x_train, y_train)\n",
    "\n",
    "# Predecir la respuesta del dataset de prueba\n",
    "y_pred = model.predict(x_test)"
   ]
  },
  {
   "cell_type": "code",
   "execution_count": 8,
   "id": "2d2d272b-1f09-4932-a250-8ba2e5ccf3b3",
   "metadata": {},
   "outputs": [
    {
     "name": "stdout",
     "output_type": "stream",
     "text": [
      "Valor R^2: 0.333\n"
     ]
    }
   ],
   "source": [
    "# r2_score\n",
    "y_pred = Ada.predict(x_test)\n",
    "r = r2_score(y_test, y_pred)\n",
    "print(\"Valor R^2: %.3f\"%r)"
   ]
  },
  {
   "cell_type": "code",
   "execution_count": 9,
   "id": "5a3562e0-0b2d-42d2-a96e-cccfdd7f9db9",
   "metadata": {},
   "outputs": [
    {
     "name": "stdout",
     "output_type": "stream",
     "text": [
      "Valor RME: 34.535\n"
     ]
    }
   ],
   "source": [
    "# mean squared error\n",
    "m = mean_squared_error(y_test, y_pred)\n",
    "print(\"Valor RME: %.3f\"%m)"
   ]
  },
  {
   "cell_type": "code",
   "execution_count": 10,
   "id": "8d51dd0c-1cf2-4c51-a03c-e52b75f98700",
   "metadata": {},
   "outputs": [
    {
     "name": "stdout",
     "output_type": "stream",
     "text": [
      "Valor P_value: 0.000\n"
     ]
    }
   ],
   "source": [
    "# p_value\n",
    "r, p = stats.ttest_ind(y_test, y_pred)\n",
    "print(\"Valor P_value: %.3f\"%p)"
   ]
  },
  {
   "cell_type": "code",
   "execution_count": 11,
   "id": "7ae1e0f4-9ff4-418d-87dc-05c4c1a93b52",
   "metadata": {},
   "outputs": [
    {
     "name": "stdout",
     "output_type": "stream",
     "text": [
      "Factor de Pearson: 0.66\n"
     ]
    }
   ],
   "source": [
    "# Pearson\n",
    "r, p = stats.pearsonr(y_test, y_pred)\n",
    "print(\"Factor de Pearson: %.2f\"%r)"
   ]
  },
  {
   "cell_type": "code",
   "execution_count": 12,
   "id": "bd77a20b-887b-4672-b61d-9f3c9e384d71",
   "metadata": {},
   "outputs": [
    {
     "name": "stdout",
     "output_type": "stream",
     "text": [
      "Precision:  0.09267241379310345\n"
     ]
    }
   ],
   "source": [
    "# Presicion del modelo\n",
    "print(\"Precision: \", Ada.score(x_test, y_test))"
   ]
  }
 ],
 "metadata": {
  "kernelspec": {
   "display_name": "Python 3 (ipykernel)",
   "language": "python",
   "name": "python3"
  },
  "language_info": {
   "codemirror_mode": {
    "name": "ipython",
    "version": 3
   },
   "file_extension": ".py",
   "mimetype": "text/x-python",
   "name": "python",
   "nbconvert_exporter": "python",
   "pygments_lexer": "ipython3",
   "version": "3.9.7"
  }
 },
 "nbformat": 4,
 "nbformat_minor": 5
}
