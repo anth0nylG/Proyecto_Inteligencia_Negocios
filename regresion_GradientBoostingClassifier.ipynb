{
 "cells": [
  {
   "cell_type": "markdown",
   "id": "c5e50659-f071-4d4a-87dc-e3bdd92aa157",
   "metadata": {},
   "source": [
    "### Modelo de Regresión Gradient Boosting Classifier"
   ]
  },
  {
   "cell_type": "markdown",
   "id": "53e5b677-2cea-4257-a868-ed7f26a38fc5",
   "metadata": {},
   "source": [
    "##### Paso 1: importar los paquetes necesarios\n",
    "##### Primero, importaremos los paquetes necesarios:"
   ]
  },
  {
   "cell_type": "code",
   "execution_count": 1,
   "id": "914ce37f-453c-4aec-b849-e280f1d2f6f1",
   "metadata": {},
   "outputs": [],
   "source": [
    "import pandas as pd\n",
    "import numpy as np\n",
    "from sklearn.model_selection import train_test_split\n",
    "from sklearn import metrics\n",
    "from sklearn.metrics import r2_score, mean_squared_error\n",
    "from scipy import stats\n",
    "from scipy.stats import pearsonr\n",
    "import warnings\n",
    "warnings.filterwarnings('ignore')\n",
    "from sklearn.ensemble import GradientBoostingClassifier"
   ]
  },
  {
   "cell_type": "code",
   "execution_count": 2,
   "id": "803f1807-37b5-4930-bcb8-01d294331a98",
   "metadata": {},
   "outputs": [
    {
     "data": {
      "text/html": [
       "<div>\n",
       "<style scoped>\n",
       "    .dataframe tbody tr th:only-of-type {\n",
       "        vertical-align: middle;\n",
       "    }\n",
       "\n",
       "    .dataframe tbody tr th {\n",
       "        vertical-align: top;\n",
       "    }\n",
       "\n",
       "    .dataframe thead th {\n",
       "        text-align: right;\n",
       "    }\n",
       "</style>\n",
       "<table border=\"1\" class=\"dataframe\">\n",
       "  <thead>\n",
       "    <tr style=\"text-align: right;\">\n",
       "      <th></th>\n",
       "      <th>short_name</th>\n",
       "      <th>overall</th>\n",
       "      <th>pace</th>\n",
       "      <th>shooting</th>\n",
       "      <th>passing</th>\n",
       "      <th>dribbling</th>\n",
       "      <th>defending</th>\n",
       "      <th>physic</th>\n",
       "    </tr>\n",
       "  </thead>\n",
       "  <tbody>\n",
       "    <tr>\n",
       "      <th>0</th>\n",
       "      <td>L. Messi</td>\n",
       "      <td>93</td>\n",
       "      <td>93.0</td>\n",
       "      <td>89.0</td>\n",
       "      <td>86.0</td>\n",
       "      <td>96.0</td>\n",
       "      <td>27.0</td>\n",
       "      <td>63.0</td>\n",
       "    </tr>\n",
       "    <tr>\n",
       "      <th>1</th>\n",
       "      <td>Cristiano Ronaldo</td>\n",
       "      <td>92</td>\n",
       "      <td>93.0</td>\n",
       "      <td>93.0</td>\n",
       "      <td>81.0</td>\n",
       "      <td>91.0</td>\n",
       "      <td>32.0</td>\n",
       "      <td>79.0</td>\n",
       "    </tr>\n",
       "    <tr>\n",
       "      <th>2</th>\n",
       "      <td>A. Robben</td>\n",
       "      <td>90</td>\n",
       "      <td>93.0</td>\n",
       "      <td>86.0</td>\n",
       "      <td>83.0</td>\n",
       "      <td>92.0</td>\n",
       "      <td>32.0</td>\n",
       "      <td>64.0</td>\n",
       "    </tr>\n",
       "    <tr>\n",
       "      <th>3</th>\n",
       "      <td>Z. Ibrahimović</td>\n",
       "      <td>90</td>\n",
       "      <td>76.0</td>\n",
       "      <td>91.0</td>\n",
       "      <td>81.0</td>\n",
       "      <td>86.0</td>\n",
       "      <td>34.0</td>\n",
       "      <td>86.0</td>\n",
       "    </tr>\n",
       "    <tr>\n",
       "      <th>4</th>\n",
       "      <td>M. Neuer</td>\n",
       "      <td>90</td>\n",
       "      <td>0.0</td>\n",
       "      <td>0.0</td>\n",
       "      <td>0.0</td>\n",
       "      <td>0.0</td>\n",
       "      <td>0.0</td>\n",
       "      <td>0.0</td>\n",
       "    </tr>\n",
       "  </tbody>\n",
       "</table>\n",
       "</div>"
      ],
      "text/plain": [
       "          short_name  overall  pace  shooting  passing  dribbling  defending  \\\n",
       "0           L. Messi       93  93.0      89.0     86.0       96.0       27.0   \n",
       "1  Cristiano Ronaldo       92  93.0      93.0     81.0       91.0       32.0   \n",
       "2          A. Robben       90  93.0      86.0     83.0       92.0       32.0   \n",
       "3     Z. Ibrahimović       90  76.0      91.0     81.0       86.0       34.0   \n",
       "4           M. Neuer       90   0.0       0.0      0.0        0.0        0.0   \n",
       "\n",
       "   physic  \n",
       "0    63.0  \n",
       "1    79.0  \n",
       "2    64.0  \n",
       "3    86.0  \n",
       "4     0.0  "
      ]
     },
     "execution_count": 2,
     "metadata": {},
     "output_type": "execute_result"
    }
   ],
   "source": [
    "# Leer en los datos \n",
    "data = pd.read_csv('players_15.csv')\n",
    "\n",
    "# Seleccionar el subconjunto de datos\n",
    "dataset = data[[\"short_name\", \"overall\", \"pace\", \"shooting\", \"passing\", \"dribbling\", \"defending\", \"physic\"]]\n",
    "\n",
    "# Reemplazar los valores nan por 0\n",
    "dataset = dataset.replace(np.nan, 0)\n",
    "dataset.head()"
   ]
  },
  {
   "cell_type": "code",
   "execution_count": 3,
   "id": "20d23266-b831-4096-8df3-4b841c32fa4b",
   "metadata": {},
   "outputs": [
    {
     "data": {
      "text/html": [
       "<div>\n",
       "<style scoped>\n",
       "    .dataframe tbody tr th:only-of-type {\n",
       "        vertical-align: middle;\n",
       "    }\n",
       "\n",
       "    .dataframe tbody tr th {\n",
       "        vertical-align: top;\n",
       "    }\n",
       "\n",
       "    .dataframe thead th {\n",
       "        text-align: right;\n",
       "    }\n",
       "</style>\n",
       "<table border=\"1\" class=\"dataframe\">\n",
       "  <thead>\n",
       "    <tr style=\"text-align: right;\">\n",
       "      <th></th>\n",
       "      <th>overall</th>\n",
       "      <th>pace</th>\n",
       "      <th>shooting</th>\n",
       "      <th>passing</th>\n",
       "      <th>dribbling</th>\n",
       "      <th>defending</th>\n",
       "      <th>physic</th>\n",
       "    </tr>\n",
       "  </thead>\n",
       "  <tbody>\n",
       "    <tr>\n",
       "      <th>overall</th>\n",
       "      <td>1.000000</td>\n",
       "      <td>0.146646</td>\n",
       "      <td>0.335387</td>\n",
       "      <td>0.360834</td>\n",
       "      <td>0.307590</td>\n",
       "      <td>0.221482</td>\n",
       "      <td>0.240850</td>\n",
       "    </tr>\n",
       "    <tr>\n",
       "      <th>pace</th>\n",
       "      <td>0.146646</td>\n",
       "      <td>1.000000</td>\n",
       "      <td>0.803523</td>\n",
       "      <td>0.844271</td>\n",
       "      <td>0.909900</td>\n",
       "      <td>0.569941</td>\n",
       "      <td>0.794396</td>\n",
       "    </tr>\n",
       "    <tr>\n",
       "      <th>shooting</th>\n",
       "      <td>0.335387</td>\n",
       "      <td>0.803523</td>\n",
       "      <td>1.000000</td>\n",
       "      <td>0.870799</td>\n",
       "      <td>0.914318</td>\n",
       "      <td>0.378075</td>\n",
       "      <td>0.713964</td>\n",
       "    </tr>\n",
       "    <tr>\n",
       "      <th>passing</th>\n",
       "      <td>0.360834</td>\n",
       "      <td>0.844271</td>\n",
       "      <td>0.870799</td>\n",
       "      <td>1.000000</td>\n",
       "      <td>0.951239</td>\n",
       "      <td>0.658769</td>\n",
       "      <td>0.816445</td>\n",
       "    </tr>\n",
       "    <tr>\n",
       "      <th>dribbling</th>\n",
       "      <td>0.307590</td>\n",
       "      <td>0.909900</td>\n",
       "      <td>0.914318</td>\n",
       "      <td>0.951239</td>\n",
       "      <td>1.000000</td>\n",
       "      <td>0.555199</td>\n",
       "      <td>0.789923</td>\n",
       "    </tr>\n",
       "    <tr>\n",
       "      <th>defending</th>\n",
       "      <td>0.221482</td>\n",
       "      <td>0.569941</td>\n",
       "      <td>0.378075</td>\n",
       "      <td>0.658769</td>\n",
       "      <td>0.555199</td>\n",
       "      <td>1.000000</td>\n",
       "      <td>0.820978</td>\n",
       "    </tr>\n",
       "    <tr>\n",
       "      <th>physic</th>\n",
       "      <td>0.240850</td>\n",
       "      <td>0.794396</td>\n",
       "      <td>0.713964</td>\n",
       "      <td>0.816445</td>\n",
       "      <td>0.789923</td>\n",
       "      <td>0.820978</td>\n",
       "      <td>1.000000</td>\n",
       "    </tr>\n",
       "  </tbody>\n",
       "</table>\n",
       "</div>"
      ],
      "text/plain": [
       "            overall      pace  shooting   passing  dribbling  defending  \\\n",
       "overall    1.000000  0.146646  0.335387  0.360834   0.307590   0.221482   \n",
       "pace       0.146646  1.000000  0.803523  0.844271   0.909900   0.569941   \n",
       "shooting   0.335387  0.803523  1.000000  0.870799   0.914318   0.378075   \n",
       "passing    0.360834  0.844271  0.870799  1.000000   0.951239   0.658769   \n",
       "dribbling  0.307590  0.909900  0.914318  0.951239   1.000000   0.555199   \n",
       "defending  0.221482  0.569941  0.378075  0.658769   0.555199   1.000000   \n",
       "physic     0.240850  0.794396  0.713964  0.816445   0.789923   0.820978   \n",
       "\n",
       "             physic  \n",
       "overall    0.240850  \n",
       "pace       0.794396  \n",
       "shooting   0.713964  \n",
       "passing    0.816445  \n",
       "dribbling  0.789923  \n",
       "defending  0.820978  \n",
       "physic     1.000000  "
      ]
     },
     "execution_count": 3,
     "metadata": {},
     "output_type": "execute_result"
    }
   ],
   "source": [
    "# Visualizamos la correlacion de los datos\n",
    "dataset.corr()"
   ]
  },
  {
   "cell_type": "code",
   "execution_count": 4,
   "id": "db69b096-f078-4dd2-a351-0171886bb8fa",
   "metadata": {},
   "outputs": [],
   "source": [
    "# definir variables de predicción y respuesta\n",
    "x = dataset[[\"pace\", \"shooting\", \"passing\", \"dribbling\", \"defending\", \"physic\"]]\n",
    "y = dataset[\"overall\"]"
   ]
  },
  {
   "cell_type": "code",
   "execution_count": 5,
   "id": "44f81dd3-2d8a-4c49-bbd4-80cf432ec2ec",
   "metadata": {},
   "outputs": [],
   "source": [
    "# entrenar el modelo\n",
    "x_train, x_test, y_train, y_test = train_test_split(x, y, test_size=0.3,random_state=42) # 70% entrenamiento y 30% prueba"
   ]
  },
  {
   "cell_type": "code",
   "execution_count": 6,
   "id": "bb2c36fb-fbc4-4b90-829d-e10d0f6a99ca",
   "metadata": {},
   "outputs": [],
   "source": [
    "# Iniciar el modelo\n",
    "gbm = GradientBoostingClassifier(random_state=42)"
   ]
  },
  {
   "cell_type": "code",
   "execution_count": 7,
   "id": "0ae90a43-993c-4fb6-a03a-77a059353b32",
   "metadata": {},
   "outputs": [
    {
     "data": {
      "text/plain": [
       "GradientBoostingClassifier(random_state=42)"
      ]
     },
     "execution_count": 7,
     "metadata": {},
     "output_type": "execute_result"
    }
   ],
   "source": [
    "# Entrenar el modelo\n",
    "gbm.fit(x_train, y_train)"
   ]
  },
  {
   "cell_type": "code",
   "execution_count": 8,
   "id": "612d07d6-e5d5-43d1-82fc-4ed6d17d17b9",
   "metadata": {},
   "outputs": [],
   "source": [
    "# Generar una prediccion\n",
    "y_pred = gbm.predict(x_test)"
   ]
  },
  {
   "cell_type": "code",
   "execution_count": 9,
   "id": "b03550a5-cf3c-4a24-884f-32cf17edbbe0",
   "metadata": {},
   "outputs": [
    {
     "name": "stdout",
     "output_type": "stream",
     "text": [
      "Valor R^2: 0.770\n"
     ]
    }
   ],
   "source": [
    "# r2_score\n",
    "r = r2_score(y_test, y_pred)\n",
    "print(\"Valor R^2: %.3f\"%r)"
   ]
  },
  {
   "cell_type": "code",
   "execution_count": 10,
   "id": "ca234b6b-a235-4194-a3e3-0b42240e7c2d",
   "metadata": {},
   "outputs": [
    {
     "name": "stdout",
     "output_type": "stream",
     "text": [
      "Valor RME: 11.932\n"
     ]
    }
   ],
   "source": [
    "# mean squared error\n",
    "m = mean_squared_error(y_test, y_pred)\n",
    "print(\"Valor RME: %.3f\"%m)"
   ]
  },
  {
   "cell_type": "code",
   "execution_count": 11,
   "id": "a82b110d-03c4-4d35-bede-cf076df64d6b",
   "metadata": {},
   "outputs": [
    {
     "name": "stdout",
     "output_type": "stream",
     "text": [
      "Valor P_value: 0.271\n"
     ]
    }
   ],
   "source": [
    "# p_value\n",
    "r, p = stats.ttest_ind(y_test, y_pred)\n",
    "print(\"Valor P_value: %.3f\"%p)"
   ]
  },
  {
   "cell_type": "code",
   "execution_count": 12,
   "id": "889e8589-1625-4c84-b14e-ed42c76c3be2",
   "metadata": {},
   "outputs": [
    {
     "name": "stdout",
     "output_type": "stream",
     "text": [
      "Factor de Pearson: 0.88\n"
     ]
    }
   ],
   "source": [
    "# Pearson\n",
    "r, p = stats.pearsonr(y_test, y_pred)\n",
    "print(\"Factor de Pearson: %.2f\"%r)"
   ]
  },
  {
   "cell_type": "code",
   "execution_count": 13,
   "id": "ffc23ce0-55bf-4995-a445-187a635cd041",
   "metadata": {},
   "outputs": [
    {
     "name": "stdout",
     "output_type": "stream",
     "text": [
      "Precision del modelo:  0.2021551724137931\n"
     ]
    }
   ],
   "source": [
    "# Presicion del modelo\n",
    "print(\"Precision del modelo: \", gbm.score(x_test, y_test))"
   ]
  }
 ],
 "metadata": {
  "kernelspec": {
   "display_name": "Python 3 (ipykernel)",
   "language": "python",
   "name": "python3"
  },
  "language_info": {
   "codemirror_mode": {
    "name": "ipython",
    "version": 3
   },
   "file_extension": ".py",
   "mimetype": "text/x-python",
   "name": "python",
   "nbconvert_exporter": "python",
   "pygments_lexer": "ipython3",
   "version": "3.9.7"
  }
 },
 "nbformat": 4,
 "nbformat_minor": 5
}
