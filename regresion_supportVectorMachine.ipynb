{
 "cells": [
  {
   "cell_type": "markdown",
   "id": "2230b4e6-6067-4188-ac51-74876ca81f39",
   "metadata": {},
   "source": [
    "### Modelo de Regresión Support Vector Machine"
   ]
  },
  {
   "cell_type": "markdown",
   "id": "185d2909-0810-428d-b042-f88424a3a685",
   "metadata": {},
   "source": [
    "##### Paso 1: importar los paquetes necesarios"
   ]
  },
  {
   "cell_type": "code",
   "execution_count": 1,
   "id": "c3f2e77c-7521-4a6b-a58d-90cee443f5a6",
   "metadata": {},
   "outputs": [],
   "source": [
    "import pandas as pd\n",
    "import numpy as np\n",
    "from sklearn.model_selection import train_test_split\n",
    "from sklearn import metrics\n",
    "from sklearn.metrics import r2_score, mean_squared_error\n",
    "from scipy import stats\n",
    "from scipy.stats import pearsonr\n",
    "import warnings\n",
    "warnings.filterwarnings('ignore')\n",
    "from sklearn.svm import SVC"
   ]
  },
  {
   "cell_type": "code",
   "execution_count": 2,
   "id": "3782dc3e-112e-4e41-81f8-a7eead9ec2f1",
   "metadata": {},
   "outputs": [
    {
     "data": {
      "text/html": [
       "<div>\n",
       "<style scoped>\n",
       "    .dataframe tbody tr th:only-of-type {\n",
       "        vertical-align: middle;\n",
       "    }\n",
       "\n",
       "    .dataframe tbody tr th {\n",
       "        vertical-align: top;\n",
       "    }\n",
       "\n",
       "    .dataframe thead th {\n",
       "        text-align: right;\n",
       "    }\n",
       "</style>\n",
       "<table border=\"1\" class=\"dataframe\">\n",
       "  <thead>\n",
       "    <tr style=\"text-align: right;\">\n",
       "      <th></th>\n",
       "      <th>short_name</th>\n",
       "      <th>overall</th>\n",
       "      <th>pace</th>\n",
       "      <th>shooting</th>\n",
       "      <th>passing</th>\n",
       "      <th>dribbling</th>\n",
       "      <th>defending</th>\n",
       "      <th>physic</th>\n",
       "    </tr>\n",
       "  </thead>\n",
       "  <tbody>\n",
       "    <tr>\n",
       "      <th>0</th>\n",
       "      <td>L. Messi</td>\n",
       "      <td>93</td>\n",
       "      <td>93.0</td>\n",
       "      <td>89.0</td>\n",
       "      <td>86.0</td>\n",
       "      <td>96.0</td>\n",
       "      <td>27.0</td>\n",
       "      <td>63.0</td>\n",
       "    </tr>\n",
       "    <tr>\n",
       "      <th>1</th>\n",
       "      <td>Cristiano Ronaldo</td>\n",
       "      <td>92</td>\n",
       "      <td>93.0</td>\n",
       "      <td>93.0</td>\n",
       "      <td>81.0</td>\n",
       "      <td>91.0</td>\n",
       "      <td>32.0</td>\n",
       "      <td>79.0</td>\n",
       "    </tr>\n",
       "    <tr>\n",
       "      <th>2</th>\n",
       "      <td>A. Robben</td>\n",
       "      <td>90</td>\n",
       "      <td>93.0</td>\n",
       "      <td>86.0</td>\n",
       "      <td>83.0</td>\n",
       "      <td>92.0</td>\n",
       "      <td>32.0</td>\n",
       "      <td>64.0</td>\n",
       "    </tr>\n",
       "    <tr>\n",
       "      <th>3</th>\n",
       "      <td>Z. Ibrahimović</td>\n",
       "      <td>90</td>\n",
       "      <td>76.0</td>\n",
       "      <td>91.0</td>\n",
       "      <td>81.0</td>\n",
       "      <td>86.0</td>\n",
       "      <td>34.0</td>\n",
       "      <td>86.0</td>\n",
       "    </tr>\n",
       "    <tr>\n",
       "      <th>4</th>\n",
       "      <td>M. Neuer</td>\n",
       "      <td>90</td>\n",
       "      <td>0.0</td>\n",
       "      <td>0.0</td>\n",
       "      <td>0.0</td>\n",
       "      <td>0.0</td>\n",
       "      <td>0.0</td>\n",
       "      <td>0.0</td>\n",
       "    </tr>\n",
       "  </tbody>\n",
       "</table>\n",
       "</div>"
      ],
      "text/plain": [
       "          short_name  overall  pace  shooting  passing  dribbling  defending  \\\n",
       "0           L. Messi       93  93.0      89.0     86.0       96.0       27.0   \n",
       "1  Cristiano Ronaldo       92  93.0      93.0     81.0       91.0       32.0   \n",
       "2          A. Robben       90  93.0      86.0     83.0       92.0       32.0   \n",
       "3     Z. Ibrahimović       90  76.0      91.0     81.0       86.0       34.0   \n",
       "4           M. Neuer       90   0.0       0.0      0.0        0.0        0.0   \n",
       "\n",
       "   physic  \n",
       "0    63.0  \n",
       "1    79.0  \n",
       "2    64.0  \n",
       "3    86.0  \n",
       "4     0.0  "
      ]
     },
     "execution_count": 2,
     "metadata": {},
     "output_type": "execute_result"
    }
   ],
   "source": [
    "# Leer en los datos \n",
    "data = pd.read_csv('players_15.csv')\n",
    "\n",
    "# Seleccionar el subconjunto de datos\n",
    "dataset = data[[\"short_name\", \"overall\", \"pace\", \"shooting\", \"passing\", \"dribbling\", \"defending\", \"physic\"]]\n",
    "\n",
    "# Reemplazar los valores nan por 0\n",
    "dataset = dataset.replace(np.nan, 0)\n",
    "dataset.head()"
   ]
  },
  {
   "cell_type": "code",
   "execution_count": 3,
   "id": "9976ac2e-2da6-4995-beef-d0c0ee57014c",
   "metadata": {},
   "outputs": [
    {
     "data": {
      "text/html": [
       "<div>\n",
       "<style scoped>\n",
       "    .dataframe tbody tr th:only-of-type {\n",
       "        vertical-align: middle;\n",
       "    }\n",
       "\n",
       "    .dataframe tbody tr th {\n",
       "        vertical-align: top;\n",
       "    }\n",
       "\n",
       "    .dataframe thead th {\n",
       "        text-align: right;\n",
       "    }\n",
       "</style>\n",
       "<table border=\"1\" class=\"dataframe\">\n",
       "  <thead>\n",
       "    <tr style=\"text-align: right;\">\n",
       "      <th></th>\n",
       "      <th>overall</th>\n",
       "      <th>pace</th>\n",
       "      <th>shooting</th>\n",
       "      <th>passing</th>\n",
       "      <th>dribbling</th>\n",
       "      <th>defending</th>\n",
       "      <th>physic</th>\n",
       "    </tr>\n",
       "  </thead>\n",
       "  <tbody>\n",
       "    <tr>\n",
       "      <th>overall</th>\n",
       "      <td>1.000000</td>\n",
       "      <td>0.146646</td>\n",
       "      <td>0.335387</td>\n",
       "      <td>0.360834</td>\n",
       "      <td>0.307590</td>\n",
       "      <td>0.221482</td>\n",
       "      <td>0.240850</td>\n",
       "    </tr>\n",
       "    <tr>\n",
       "      <th>pace</th>\n",
       "      <td>0.146646</td>\n",
       "      <td>1.000000</td>\n",
       "      <td>0.803523</td>\n",
       "      <td>0.844271</td>\n",
       "      <td>0.909900</td>\n",
       "      <td>0.569941</td>\n",
       "      <td>0.794396</td>\n",
       "    </tr>\n",
       "    <tr>\n",
       "      <th>shooting</th>\n",
       "      <td>0.335387</td>\n",
       "      <td>0.803523</td>\n",
       "      <td>1.000000</td>\n",
       "      <td>0.870799</td>\n",
       "      <td>0.914318</td>\n",
       "      <td>0.378075</td>\n",
       "      <td>0.713964</td>\n",
       "    </tr>\n",
       "    <tr>\n",
       "      <th>passing</th>\n",
       "      <td>0.360834</td>\n",
       "      <td>0.844271</td>\n",
       "      <td>0.870799</td>\n",
       "      <td>1.000000</td>\n",
       "      <td>0.951239</td>\n",
       "      <td>0.658769</td>\n",
       "      <td>0.816445</td>\n",
       "    </tr>\n",
       "    <tr>\n",
       "      <th>dribbling</th>\n",
       "      <td>0.307590</td>\n",
       "      <td>0.909900</td>\n",
       "      <td>0.914318</td>\n",
       "      <td>0.951239</td>\n",
       "      <td>1.000000</td>\n",
       "      <td>0.555199</td>\n",
       "      <td>0.789923</td>\n",
       "    </tr>\n",
       "    <tr>\n",
       "      <th>defending</th>\n",
       "      <td>0.221482</td>\n",
       "      <td>0.569941</td>\n",
       "      <td>0.378075</td>\n",
       "      <td>0.658769</td>\n",
       "      <td>0.555199</td>\n",
       "      <td>1.000000</td>\n",
       "      <td>0.820978</td>\n",
       "    </tr>\n",
       "    <tr>\n",
       "      <th>physic</th>\n",
       "      <td>0.240850</td>\n",
       "      <td>0.794396</td>\n",
       "      <td>0.713964</td>\n",
       "      <td>0.816445</td>\n",
       "      <td>0.789923</td>\n",
       "      <td>0.820978</td>\n",
       "      <td>1.000000</td>\n",
       "    </tr>\n",
       "  </tbody>\n",
       "</table>\n",
       "</div>"
      ],
      "text/plain": [
       "            overall      pace  shooting   passing  dribbling  defending  \\\n",
       "overall    1.000000  0.146646  0.335387  0.360834   0.307590   0.221482   \n",
       "pace       0.146646  1.000000  0.803523  0.844271   0.909900   0.569941   \n",
       "shooting   0.335387  0.803523  1.000000  0.870799   0.914318   0.378075   \n",
       "passing    0.360834  0.844271  0.870799  1.000000   0.951239   0.658769   \n",
       "dribbling  0.307590  0.909900  0.914318  0.951239   1.000000   0.555199   \n",
       "defending  0.221482  0.569941  0.378075  0.658769   0.555199   1.000000   \n",
       "physic     0.240850  0.794396  0.713964  0.816445   0.789923   0.820978   \n",
       "\n",
       "             physic  \n",
       "overall    0.240850  \n",
       "pace       0.794396  \n",
       "shooting   0.713964  \n",
       "passing    0.816445  \n",
       "dribbling  0.789923  \n",
       "defending  0.820978  \n",
       "physic     1.000000  "
      ]
     },
     "execution_count": 3,
     "metadata": {},
     "output_type": "execute_result"
    }
   ],
   "source": [
    "# Visualizamos la correlacion de los datos\n",
    "dataset.corr()"
   ]
  },
  {
   "cell_type": "code",
   "execution_count": 4,
   "id": "6169c797-275a-44a5-b842-5a48894eff7a",
   "metadata": {},
   "outputs": [],
   "source": [
    "# definir variables de predicción y respuesta\n",
    "x = dataset[[\"pace\", \"shooting\", \"passing\", \"dribbling\", \"defending\", \"physic\"]]\n",
    "y = dataset[\"overall\"]"
   ]
  },
  {
   "cell_type": "code",
   "execution_count": 5,
   "id": "c3f09e4a-5025-4347-a52a-35e661a905c8",
   "metadata": {},
   "outputs": [],
   "source": [
    "# Separar los datos de entrenamiento y prueba\n",
    "x_train, x_test, y_train, y_test = train_test_split(x, y, test_size=0.3,random_state=42) # 70% entrenamiento y 30% prueba"
   ]
  },
  {
   "cell_type": "code",
   "execution_count": 6,
   "id": "ac5fed13-28ac-4628-8133-1a8c333545dd",
   "metadata": {},
   "outputs": [
    {
     "data": {
      "text/plain": [
       "SVC(C=10)"
      ]
     },
     "execution_count": 6,
     "metadata": {},
     "output_type": "execute_result"
    }
   ],
   "source": [
    "# Iniciar el modelo\n",
    "vec = SVC(C=10)\n",
    "vec.fit(x_train, y_train)"
   ]
  },
  {
   "cell_type": "code",
   "execution_count": 7,
   "id": "b9e69cba-b949-4565-8d55-e4010198bf35",
   "metadata": {},
   "outputs": [],
   "source": [
    "# Generar una prediccion\n",
    "y_pred = vec.predict(x_test)"
   ]
  },
  {
   "cell_type": "code",
   "execution_count": 8,
   "id": "43a9f317-1dcb-4108-8151-1f41fcefda3e",
   "metadata": {},
   "outputs": [
    {
     "name": "stdout",
     "output_type": "stream",
     "text": [
      "Valor R^2: 0.808\n"
     ]
    }
   ],
   "source": [
    "# r2_score\n",
    "r = r2_score(y_test, y_pred)\n",
    "print(\"Valor R^2: %.3f\"%r)"
   ]
  },
  {
   "cell_type": "code",
   "execution_count": 9,
   "id": "a394e40a-a4c2-4ac2-bc89-205e305aacb3",
   "metadata": {},
   "outputs": [
    {
     "name": "stdout",
     "output_type": "stream",
     "text": [
      "Valor RME: 9.960\n"
     ]
    }
   ],
   "source": [
    "# mean squared error\n",
    "m = mean_squared_error(y_test, y_pred)\n",
    "print(\"Valor RME: %.3f\"%m)"
   ]
  },
  {
   "cell_type": "code",
   "execution_count": 10,
   "id": "d2bbc801-1d02-46a8-82ad-23bebfd3045d",
   "metadata": {},
   "outputs": [
    {
     "name": "stdout",
     "output_type": "stream",
     "text": [
      "Valor P_value: 0.478\n"
     ]
    }
   ],
   "source": [
    "# p_value\n",
    "r, p = stats.ttest_ind(y_test, y_pred)\n",
    "print(\"Valor P_value: %.3f\"%p)"
   ]
  },
  {
   "cell_type": "code",
   "execution_count": 11,
   "id": "5a592b67-4b87-4f15-b282-53016036cfab",
   "metadata": {},
   "outputs": [
    {
     "name": "stdout",
     "output_type": "stream",
     "text": [
      "Factor de Pearson: 0.899\n"
     ]
    }
   ],
   "source": [
    "# Pearson\n",
    "r, p = stats.pearsonr(y_test, y_pred)\n",
    "print(\"Factor de Pearson: %.3f\"%r)"
   ]
  },
  {
   "cell_type": "code",
   "execution_count": 12,
   "id": "da5cec69-6a18-4d0b-af70-6cbf977e00c3",
   "metadata": {},
   "outputs": [
    {
     "name": "stdout",
     "output_type": "stream",
     "text": [
      "Precision del modelo:  0.22327586206896552\n"
     ]
    }
   ],
   "source": [
    "# Presicion del modelo\n",
    "print(\"Precision del modelo: \", vec.score(x_test, y_test))"
   ]
  }
 ],
 "metadata": {
  "kernelspec": {
   "display_name": "Python 3 (ipykernel)",
   "language": "python",
   "name": "python3"
  },
  "language_info": {
   "codemirror_mode": {
    "name": "ipython",
    "version": 3
   },
   "file_extension": ".py",
   "mimetype": "text/x-python",
   "name": "python",
   "nbconvert_exporter": "python",
   "pygments_lexer": "ipython3",
   "version": "3.9.7"
  }
 },
 "nbformat": 4,
 "nbformat_minor": 5
}
